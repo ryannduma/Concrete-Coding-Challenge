{
 "cells": [
  {
   "cell_type": "code",
   "execution_count": 1,
   "id": "3d4a88f1e2edd0a5",
   "metadata": {
    "collapsed": true,
    "ExecuteTime": {
     "end_time": "2023-11-22T11:44:37.462866700Z",
     "start_time": "2023-11-22T11:44:35.278089400Z"
    }
   },
   "outputs": [],
   "source": [
    "import numpy as np\n",
    "import pandas as pd\n",
    "import scipy as stats\n",
    "import matplotlib.pyplot as plt\n",
    "\n"
   ]
  },
  {
   "cell_type": "code",
   "execution_count": 2,
   "outputs": [
    {
     "name": "stdout",
     "output_type": "stream",
     "text": [
      "Data with NaN replaced by the mean:\n",
      "\n",
      "      cement   slag  flyash  water  superplasticizer  coarseaggregate  \\\n",
      "0      540.0    0.0     0.0  162.0               2.5           1040.0   \n",
      "1      540.0    0.0     0.0  162.0               2.5           1055.0   \n",
      "2      332.5  142.5     0.0  228.0               0.0            932.0   \n",
      "4      198.6  132.4     0.0  192.0               0.0            978.4   \n",
      "6      380.0   95.0     0.0  228.0               0.0            932.0   \n",
      "...      ...    ...     ...    ...               ...              ...   \n",
      "1025   276.4  116.0    90.3  179.6               8.9            870.1   \n",
      "1026   322.2    0.0   115.6  196.0              10.4            817.9   \n",
      "1027   148.5  139.4   108.6  192.7               6.1            892.4   \n",
      "1028   159.1  186.7     0.0  175.6              11.3            989.6   \n",
      "1029   260.9  100.5    78.3  200.6               8.6            864.5   \n",
      "\n",
      "      fineaggregate    age  csMPa  \n",
      "0             676.0   28.0  79.99  \n",
      "1             676.0   28.0  61.89  \n",
      "2             594.0  270.0  40.27  \n",
      "4             825.5  360.0  44.30  \n",
      "6             594.0  365.0  43.70  \n",
      "...             ...    ...    ...  \n",
      "1025          768.3   28.0  44.28  \n",
      "1026          813.4   28.0  31.18  \n",
      "1027          780.0   28.0  23.70  \n",
      "1028          788.9   28.0  32.77  \n",
      "1029          761.5   28.0  32.40  \n",
      "\n",
      "[987 rows x 9 columns]\n"
     ]
    }
   ],
   "source": [
    "a = pd.read_csv('Concrete_Data_Yeh_final.csv')\n",
    "data_removed = a.copy().dropna()\n",
    "\n",
    "data_replaced = data_removed.copy()\n",
    "\n",
    "# use mean values\n",
    "mean_values = {\n",
    "    'cement': data_replaced['cement'].mean(),\n",
    "    'slag': data_replaced['slag'].mean(),\n",
    "    'flyash': data_replaced['flyash'].mean(),\n",
    "    'water': data_replaced['water'].mean(),\n",
    "    'superplasticizer': data_replaced['superplasticizer'].mean(),\n",
    "    'coarseaggregate': data_replaced['coarseaggregate'].mean(),\n",
    "    'fineaggregate': data_replaced['fineaggregate'].mean(),\n",
    "    'age': data_replaced['age'].mean(),\n",
    "    'csMPa': data_replaced['csMPa'].mean()\n",
    "}\n",
    "data_replaced_mean = data_replaced.copy().fillna(value=mean_values)\n",
    "print(f'Data with NaN replaced by the mean:\\n\\n{data_replaced_mean}\\n')\n",
    "\n",
    "#remember to "
   ],
   "metadata": {
    "collapsed": false,
    "ExecuteTime": {
     "end_time": "2023-11-22T11:44:37.544363700Z",
     "start_time": "2023-11-22T11:44:37.463864600Z"
    }
   },
   "id": "initial_id"
  }
 ],
 "metadata": {
  "kernelspec": {
   "display_name": "Python 3",
   "language": "python",
   "name": "python3"
  },
  "language_info": {
   "codemirror_mode": {
    "name": "ipython",
    "version": 2
   },
   "file_extension": ".py",
   "mimetype": "text/x-python",
   "name": "python",
   "nbconvert_exporter": "python",
   "pygments_lexer": "ipython2",
   "version": "2.7.6"
  }
 },
 "nbformat": 4,
 "nbformat_minor": 5
}
